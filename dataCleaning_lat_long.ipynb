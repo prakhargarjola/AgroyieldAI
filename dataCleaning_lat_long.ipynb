{
 "cells": [
  {
   "cell_type": "code",
   "execution_count": 2,
   "id": "b02be654",
   "metadata": {},
   "outputs": [],
   "source": [
    "import pandas as pd\n",
    "import numpy as np"
   ]
  },
  {
   "cell_type": "code",
   "execution_count": 3,
   "id": "75d289ea",
   "metadata": {},
   "outputs": [
    {
     "data": {
      "text/html": [
       "<div>\n",
       "<style scoped>\n",
       "    .dataframe tbody tr th:only-of-type {\n",
       "        vertical-align: middle;\n",
       "    }\n",
       "\n",
       "    .dataframe tbody tr th {\n",
       "        vertical-align: top;\n",
       "    }\n",
       "\n",
       "    .dataframe thead th {\n",
       "        text-align: right;\n",
       "    }\n",
       "</style>\n",
       "<table border=\"1\" class=\"dataframe\">\n",
       "  <thead>\n",
       "    <tr style=\"text-align: right;\">\n",
       "      <th></th>\n",
       "      <th>ÿCountry</th>\n",
       "      <th>District</th>\n",
       "      <th>Ind_adm2_ID</th>\n",
       "      <th>point_order</th>\n",
       "      <th>State</th>\n",
       "      <th>sub_polygon_id</th>\n",
       "      <th>Latitude</th>\n",
       "      <th>Longitude</th>\n",
       "      <th>Number of Records</th>\n",
       "    </tr>\n",
       "  </thead>\n",
       "  <tbody>\n",
       "    <tr>\n",
       "      <th>0</th>\n",
       "      <td>India</td>\n",
       "      <td>Andaman Islands</td>\n",
       "      <td>0</td>\n",
       "      <td>326</td>\n",
       "      <td>Andaman and Nicobar</td>\n",
       "      <td>28</td>\n",
       "      <td>11.5957</td>\n",
       "      <td>92.5322</td>\n",
       "      <td>1</td>\n",
       "    </tr>\n",
       "    <tr>\n",
       "      <th>1</th>\n",
       "      <td>India</td>\n",
       "      <td>Andaman Islands</td>\n",
       "      <td>0</td>\n",
       "      <td>327</td>\n",
       "      <td>Andaman and Nicobar</td>\n",
       "      <td>28</td>\n",
       "      <td>11.5963</td>\n",
       "      <td>92.5325</td>\n",
       "      <td>1</td>\n",
       "    </tr>\n",
       "  </tbody>\n",
       "</table>\n",
       "</div>"
      ],
      "text/plain": [
       "  ÿCountry         District  Ind_adm2_ID  point_order                State  \\\n",
       "0    India  Andaman Islands            0          326  Andaman and Nicobar   \n",
       "1    India  Andaman Islands            0          327  Andaman and Nicobar   \n",
       "\n",
       "   sub_polygon_id  Latitude  Longitude  Number of Records  \n",
       "0              28   11.5957    92.5322                  1  \n",
       "1              28   11.5963    92.5325                  1  "
      ]
     },
     "execution_count": 3,
     "metadata": {},
     "output_type": "execute_result"
    }
   ],
   "source": [
    "df = pd.read_csv('dataset/Ind_adm2_Points.csv', encoding='latin1')\n",
    "df.head(2)"
   ]
  },
  {
   "cell_type": "code",
   "execution_count": 4,
   "id": "b9389bcf",
   "metadata": {},
   "outputs": [],
   "source": [
    "df_new = df.drop(columns=['ÿCountry', 'Ind_adm2_ID', 'point_order', 'sub_polygon_id', 'Number of Records'])"
   ]
  },
  {
   "cell_type": "code",
   "execution_count": 5,
   "id": "62fa8b67",
   "metadata": {},
   "outputs": [],
   "source": [
    "df_new =df_new[df_new['State'] == 'Uttar Pradesh']"
   ]
  },
  {
   "cell_type": "code",
   "execution_count": 6,
   "id": "8f1d11b3",
   "metadata": {},
   "outputs": [
    {
     "data": {
      "text/plain": [
       "array(['Uttar Pradesh'], dtype=object)"
      ]
     },
     "execution_count": 6,
     "metadata": {},
     "output_type": "execute_result"
    }
   ],
   "source": [
    "df_new['State'].unique()"
   ]
  },
  {
   "cell_type": "code",
   "execution_count": 7,
   "id": "e589d627",
   "metadata": {},
   "outputs": [
    {
     "data": {
      "text/plain": [
       "array(['Mahoba', 'Mainpuri', 'Mathura', 'Mau', 'Meerut', 'Jalaun',\n",
       "       'Jaunpur', 'Jhansi', 'Jyotiba Phule Nagar', 'Kannauj', 'Kanpur',\n",
       "       'Kanpur Dehat', 'Kaushambi', 'Kushinagar', 'Lakhimpur Kheri',\n",
       "       'Lalitpur', 'Lucknow', 'Allahabad', 'Ambedkar Nagar', 'Auraiya',\n",
       "       'Azamgarh', 'Badaun', 'Baghpat', 'Bahraich', 'Ballia', 'Balrampur',\n",
       "       'Banda', 'Bara Banki', 'Bareilly', 'Basti', 'Bijnor',\n",
       "       'Bulandshahr', 'Chandauli', 'Chitrakoot', 'Deoria', 'Etah',\n",
       "       'Etawah', 'Faizabad', 'Farrukhabad', 'Fatehpur', 'Firozabad',\n",
       "       'Gautam Buddha Nagar', 'Ghaziabad', 'Ghazipur', 'Gonda',\n",
       "       'Gorakhpur', 'Hamirpur', 'Hardoi', 'Hathras', 'Agra', 'Aligarh',\n",
       "       'Mirzapur', 'Moradabad', 'Muzaffarnagar', 'Pilibhit', 'Pratapgarh',\n",
       "       'Rae Bareli', 'Rampur', 'Saharanpur', 'Sant Kabir Nagar',\n",
       "       'Sant Ravi Das Nagar', 'Maharajganj', 'Shahjahanpur', 'Shravasti',\n",
       "       'Siddharth Nagar', 'Sitapur', 'Sonbhadra', 'Sultanpur', 'Unnao',\n",
       "       'Varanasi'], dtype=object)"
      ]
     },
     "execution_count": 7,
     "metadata": {},
     "output_type": "execute_result"
    }
   ],
   "source": [
    "df_new['District'].unique()"
   ]
  },
  {
   "cell_type": "code",
   "execution_count": 8,
   "id": "4f7f5e25",
   "metadata": {},
   "outputs": [],
   "source": [
    "up_lat_long = df_new.groupby('District')[['Latitude', 'Longitude']].mean().reset_index()"
   ]
  },
  {
   "cell_type": "code",
   "execution_count": 9,
   "id": "65de8841",
   "metadata": {},
   "outputs": [
    {
     "data": {
      "text/plain": [
       "array(['Agra', 'Aligarh', 'Allahabad', 'Ambedkar Nagar', 'Auraiya',\n",
       "       'Azamgarh', 'Badaun', 'Baghpat', 'Bahraich', 'Ballia', 'Balrampur',\n",
       "       'Banda', 'Bara Banki', 'Bareilly', 'Basti', 'Bijnor',\n",
       "       'Bulandshahr', 'Chandauli', 'Chitrakoot', 'Deoria', 'Etah',\n",
       "       'Etawah', 'Faizabad', 'Farrukhabad', 'Fatehpur', 'Firozabad',\n",
       "       'Gautam Buddha Nagar', 'Ghaziabad', 'Ghazipur', 'Gonda',\n",
       "       'Gorakhpur', 'Hamirpur', 'Hardoi', 'Hathras', 'Jalaun', 'Jaunpur',\n",
       "       'Jhansi', 'Jyotiba Phule Nagar', 'Kannauj', 'Kanpur',\n",
       "       'Kanpur Dehat', 'Kaushambi', 'Kushinagar', 'Lakhimpur Kheri',\n",
       "       'Lalitpur', 'Lucknow', 'Maharajganj', 'Mahoba', 'Mainpuri',\n",
       "       'Mathura', 'Mau', 'Meerut', 'Mirzapur', 'Moradabad',\n",
       "       'Muzaffarnagar', 'Pilibhit', 'Pratapgarh', 'Rae Bareli', 'Rampur',\n",
       "       'Saharanpur', 'Sant Kabir Nagar', 'Sant Ravi Das Nagar',\n",
       "       'Shahjahanpur', 'Shravasti', 'Siddharth Nagar', 'Sitapur',\n",
       "       'Sonbhadra', 'Sultanpur', 'Unnao', 'Varanasi'], dtype=object)"
      ]
     },
     "execution_count": 9,
     "metadata": {},
     "output_type": "execute_result"
    }
   ],
   "source": [
    "up_lat_long['District'].unique()"
   ]
  },
  {
   "cell_type": "code",
   "execution_count": 10,
   "id": "772c0a5f",
   "metadata": {},
   "outputs": [
    {
     "data": {
      "text/plain": [
       "(70, 3)"
      ]
     },
     "execution_count": 10,
     "metadata": {},
     "output_type": "execute_result"
    }
   ],
   "source": [
    "up_lat_long.shape"
   ]
  },
  {
   "cell_type": "code",
   "execution_count": 11,
   "id": "69cf1027",
   "metadata": {},
   "outputs": [],
   "source": [
    "\n",
    "district_mapping = {\n",
    "    \"Allahabad\": \"Prayagraj\",          \n",
    "    \"Faizabad\": \"Ayodhya\",             \n",
    "    \"Jyotiba Phule Nagar\": \"Amroha\",   \n",
    "    \"Sant Ravi Das Nagar\": \"Bhadohi\",  \n",
    "    \"Bara Banki\": \"Barabanki\",        \n",
    "    \"Badaun\": \"Budaun\",               \n",
    "    \"Rae Bareli\": \"Raebareli\",        \n",
    "    \"Kanpur\": \"Kanpur Nagar\",          \n",
    "}\n",
    "\n",
    "\n",
    "missing_districts = [\n",
    "    \"Amethi\",\n",
    "    \"Hapur\"\n",
    "]\n",
    "\n",
    "\n",
    "up_lat_long['District'] = up_lat_long['District'].replace(district_mapping)\n",
    "\n",
    "\n"
   ]
  },
  {
   "cell_type": "code",
   "execution_count": 12,
   "id": "7237b92d",
   "metadata": {},
   "outputs": [
    {
     "data": {
      "text/plain": [
       "(70, 3)"
      ]
     },
     "execution_count": 12,
     "metadata": {},
     "output_type": "execute_result"
    }
   ],
   "source": [
    "up_lat_long.shape"
   ]
  },
  {
   "cell_type": "code",
   "execution_count": 13,
   "id": "cf6c3973",
   "metadata": {},
   "outputs": [],
   "source": [
    "missing_coords = [\n",
    "    (\"Amethi\", 26.3170, 81.6330),\n",
    "    (\"Hapur\", 28.7306, 77.7759),\n",
    "    (\"Kasganj\", 27.8083, 78.6458),\n",
    "    (\"Shamli\", 29.4500, 77.3200),\n",
    "    (\"Sambhal\", 28.5904, 78.5718),\n",
    "]"
   ]
  },
  {
   "cell_type": "code",
   "execution_count": 14,
   "id": "ae4ac0e9",
   "metadata": {},
   "outputs": [
    {
     "data": {
      "text/html": [
       "<div>\n",
       "<style scoped>\n",
       "    .dataframe tbody tr th:only-of-type {\n",
       "        vertical-align: middle;\n",
       "    }\n",
       "\n",
       "    .dataframe tbody tr th {\n",
       "        vertical-align: top;\n",
       "    }\n",
       "\n",
       "    .dataframe thead th {\n",
       "        text-align: right;\n",
       "    }\n",
       "</style>\n",
       "<table border=\"1\" class=\"dataframe\">\n",
       "  <thead>\n",
       "    <tr style=\"text-align: right;\">\n",
       "      <th></th>\n",
       "      <th>District</th>\n",
       "      <th>Latitude</th>\n",
       "      <th>Longitude</th>\n",
       "    </tr>\n",
       "  </thead>\n",
       "  <tbody>\n",
       "    <tr>\n",
       "      <th>0</th>\n",
       "      <td>Amethi</td>\n",
       "      <td>26.3170</td>\n",
       "      <td>81.6330</td>\n",
       "    </tr>\n",
       "    <tr>\n",
       "      <th>1</th>\n",
       "      <td>Hapur</td>\n",
       "      <td>28.7306</td>\n",
       "      <td>77.7759</td>\n",
       "    </tr>\n",
       "    <tr>\n",
       "      <th>2</th>\n",
       "      <td>Kasganj</td>\n",
       "      <td>27.8083</td>\n",
       "      <td>78.6458</td>\n",
       "    </tr>\n",
       "    <tr>\n",
       "      <th>3</th>\n",
       "      <td>Shamli</td>\n",
       "      <td>29.4500</td>\n",
       "      <td>77.3200</td>\n",
       "    </tr>\n",
       "    <tr>\n",
       "      <th>4</th>\n",
       "      <td>Sambhal</td>\n",
       "      <td>28.5904</td>\n",
       "      <td>78.5718</td>\n",
       "    </tr>\n",
       "  </tbody>\n",
       "</table>\n",
       "</div>"
      ],
      "text/plain": [
       "  District  Latitude  Longitude\n",
       "0   Amethi   26.3170    81.6330\n",
       "1    Hapur   28.7306    77.7759\n",
       "2  Kasganj   27.8083    78.6458\n",
       "3   Shamli   29.4500    77.3200\n",
       "4  Sambhal   28.5904    78.5718"
      ]
     },
     "execution_count": 14,
     "metadata": {},
     "output_type": "execute_result"
    }
   ],
   "source": [
    "missing_df = pd.DataFrame(missing_coords, columns=[\"District\", \"Latitude\", \"Longitude\"])\n",
    "missing_df"
   ]
  },
  {
   "cell_type": "code",
   "execution_count": 15,
   "id": "e535c0cd",
   "metadata": {},
   "outputs": [
    {
     "data": {
      "text/html": [
       "<div>\n",
       "<style scoped>\n",
       "    .dataframe tbody tr th:only-of-type {\n",
       "        vertical-align: middle;\n",
       "    }\n",
       "\n",
       "    .dataframe tbody tr th {\n",
       "        vertical-align: top;\n",
       "    }\n",
       "\n",
       "    .dataframe thead th {\n",
       "        text-align: right;\n",
       "    }\n",
       "</style>\n",
       "<table border=\"1\" class=\"dataframe\">\n",
       "  <thead>\n",
       "    <tr style=\"text-align: right;\">\n",
       "      <th></th>\n",
       "      <th>District</th>\n",
       "      <th>Latitude</th>\n",
       "      <th>Longitude</th>\n",
       "    </tr>\n",
       "  </thead>\n",
       "  <tbody>\n",
       "    <tr>\n",
       "      <th>0</th>\n",
       "      <td>Agra</td>\n",
       "      <td>26.995130</td>\n",
       "      <td>78.052783</td>\n",
       "    </tr>\n",
       "    <tr>\n",
       "      <th>1</th>\n",
       "      <td>Aligarh</td>\n",
       "      <td>27.937486</td>\n",
       "      <td>78.001468</td>\n",
       "    </tr>\n",
       "    <tr>\n",
       "      <th>2</th>\n",
       "      <td>Prayagraj</td>\n",
       "      <td>25.392039</td>\n",
       "      <td>82.051724</td>\n",
       "    </tr>\n",
       "    <tr>\n",
       "      <th>3</th>\n",
       "      <td>Ambedkar Nagar</td>\n",
       "      <td>26.391190</td>\n",
       "      <td>82.682821</td>\n",
       "    </tr>\n",
       "    <tr>\n",
       "      <th>4</th>\n",
       "      <td>Auraiya</td>\n",
       "      <td>26.668924</td>\n",
       "      <td>79.426371</td>\n",
       "    </tr>\n",
       "    <tr>\n",
       "      <th>...</th>\n",
       "      <td>...</td>\n",
       "      <td>...</td>\n",
       "      <td>...</td>\n",
       "    </tr>\n",
       "    <tr>\n",
       "      <th>65</th>\n",
       "      <td>Sitapur</td>\n",
       "      <td>27.501996</td>\n",
       "      <td>80.852889</td>\n",
       "    </tr>\n",
       "    <tr>\n",
       "      <th>66</th>\n",
       "      <td>Sonbhadra</td>\n",
       "      <td>24.466933</td>\n",
       "      <td>83.068163</td>\n",
       "    </tr>\n",
       "    <tr>\n",
       "      <th>67</th>\n",
       "      <td>Sultanpur</td>\n",
       "      <td>26.284639</td>\n",
       "      <td>82.057105</td>\n",
       "    </tr>\n",
       "    <tr>\n",
       "      <th>68</th>\n",
       "      <td>Unnao</td>\n",
       "      <td>26.631640</td>\n",
       "      <td>80.636773</td>\n",
       "    </tr>\n",
       "    <tr>\n",
       "      <th>69</th>\n",
       "      <td>Varanasi</td>\n",
       "      <td>25.360571</td>\n",
       "      <td>82.825297</td>\n",
       "    </tr>\n",
       "  </tbody>\n",
       "</table>\n",
       "<p>70 rows × 3 columns</p>\n",
       "</div>"
      ],
      "text/plain": [
       "          District   Latitude  Longitude\n",
       "0             Agra  26.995130  78.052783\n",
       "1          Aligarh  27.937486  78.001468\n",
       "2        Prayagraj  25.392039  82.051724\n",
       "3   Ambedkar Nagar  26.391190  82.682821\n",
       "4          Auraiya  26.668924  79.426371\n",
       "..             ...        ...        ...\n",
       "65         Sitapur  27.501996  80.852889\n",
       "66       Sonbhadra  24.466933  83.068163\n",
       "67       Sultanpur  26.284639  82.057105\n",
       "68           Unnao  26.631640  80.636773\n",
       "69        Varanasi  25.360571  82.825297\n",
       "\n",
       "[70 rows x 3 columns]"
      ]
     },
     "execution_count": 15,
     "metadata": {},
     "output_type": "execute_result"
    }
   ],
   "source": [
    "up_lat_long"
   ]
  },
  {
   "cell_type": "code",
   "execution_count": 16,
   "id": "e26caac4",
   "metadata": {},
   "outputs": [],
   "source": [
    "missing_districts = [\n",
    "    {\"District\": \"Amethi\",   \"Latitude\": 26.3170, \"Longitude\": 81.6330},\n",
    "    {\"District\": \"Hapur\",    \"Latitude\": 28.7306, \"Longitude\": 77.7759},\n",
    "    {\"District\": \"Kasganj\",  \"Latitude\": 27.8083, \"Longitude\": 78.6458},\n",
    "    {\"District\": \"Shamli\",   \"Latitude\": 29.4500, \"Longitude\": 77.3200},\n",
    "    {\"District\": \"Sambhal\",  \"Latitude\": 28.5904, \"Longitude\": 78.5718},\n",
    "]"
   ]
  },
  {
   "cell_type": "code",
   "execution_count": 17,
   "id": "695ff3ab",
   "metadata": {},
   "outputs": [],
   "source": [
    "for row in missing_districts:\n",
    "    up_lat_long.loc[len(up_lat_long)] = row"
   ]
  },
  {
   "cell_type": "code",
   "execution_count": 18,
   "id": "d6ce9112",
   "metadata": {},
   "outputs": [
    {
     "data": {
      "text/html": [
       "<div>\n",
       "<style scoped>\n",
       "    .dataframe tbody tr th:only-of-type {\n",
       "        vertical-align: middle;\n",
       "    }\n",
       "\n",
       "    .dataframe tbody tr th {\n",
       "        vertical-align: top;\n",
       "    }\n",
       "\n",
       "    .dataframe thead th {\n",
       "        text-align: right;\n",
       "    }\n",
       "</style>\n",
       "<table border=\"1\" class=\"dataframe\">\n",
       "  <thead>\n",
       "    <tr style=\"text-align: right;\">\n",
       "      <th></th>\n",
       "      <th>District</th>\n",
       "      <th>Latitude</th>\n",
       "      <th>Longitude</th>\n",
       "    </tr>\n",
       "  </thead>\n",
       "  <tbody>\n",
       "    <tr>\n",
       "      <th>0</th>\n",
       "      <td>Agra</td>\n",
       "      <td>26.995130</td>\n",
       "      <td>78.052783</td>\n",
       "    </tr>\n",
       "    <tr>\n",
       "      <th>1</th>\n",
       "      <td>Aligarh</td>\n",
       "      <td>27.937486</td>\n",
       "      <td>78.001468</td>\n",
       "    </tr>\n",
       "    <tr>\n",
       "      <th>2</th>\n",
       "      <td>Prayagraj</td>\n",
       "      <td>25.392039</td>\n",
       "      <td>82.051724</td>\n",
       "    </tr>\n",
       "    <tr>\n",
       "      <th>3</th>\n",
       "      <td>Ambedkar Nagar</td>\n",
       "      <td>26.391190</td>\n",
       "      <td>82.682821</td>\n",
       "    </tr>\n",
       "    <tr>\n",
       "      <th>4</th>\n",
       "      <td>Auraiya</td>\n",
       "      <td>26.668924</td>\n",
       "      <td>79.426371</td>\n",
       "    </tr>\n",
       "    <tr>\n",
       "      <th>...</th>\n",
       "      <td>...</td>\n",
       "      <td>...</td>\n",
       "      <td>...</td>\n",
       "    </tr>\n",
       "    <tr>\n",
       "      <th>70</th>\n",
       "      <td>Amethi</td>\n",
       "      <td>26.317000</td>\n",
       "      <td>81.633000</td>\n",
       "    </tr>\n",
       "    <tr>\n",
       "      <th>71</th>\n",
       "      <td>Hapur</td>\n",
       "      <td>28.730600</td>\n",
       "      <td>77.775900</td>\n",
       "    </tr>\n",
       "    <tr>\n",
       "      <th>72</th>\n",
       "      <td>Kasganj</td>\n",
       "      <td>27.808300</td>\n",
       "      <td>78.645800</td>\n",
       "    </tr>\n",
       "    <tr>\n",
       "      <th>73</th>\n",
       "      <td>Shamli</td>\n",
       "      <td>29.450000</td>\n",
       "      <td>77.320000</td>\n",
       "    </tr>\n",
       "    <tr>\n",
       "      <th>74</th>\n",
       "      <td>Sambhal</td>\n",
       "      <td>28.590400</td>\n",
       "      <td>78.571800</td>\n",
       "    </tr>\n",
       "  </tbody>\n",
       "</table>\n",
       "<p>75 rows × 3 columns</p>\n",
       "</div>"
      ],
      "text/plain": [
       "          District   Latitude  Longitude\n",
       "0             Agra  26.995130  78.052783\n",
       "1          Aligarh  27.937486  78.001468\n",
       "2        Prayagraj  25.392039  82.051724\n",
       "3   Ambedkar Nagar  26.391190  82.682821\n",
       "4          Auraiya  26.668924  79.426371\n",
       "..             ...        ...        ...\n",
       "70          Amethi  26.317000  81.633000\n",
       "71           Hapur  28.730600  77.775900\n",
       "72         Kasganj  27.808300  78.645800\n",
       "73          Shamli  29.450000  77.320000\n",
       "74         Sambhal  28.590400  78.571800\n",
       "\n",
       "[75 rows x 3 columns]"
      ]
     },
     "execution_count": 18,
     "metadata": {},
     "output_type": "execute_result"
    }
   ],
   "source": [
    "up_lat_long"
   ]
  },
  {
   "cell_type": "code",
   "execution_count": 19,
   "id": "937a1839",
   "metadata": {},
   "outputs": [],
   "source": [
    "exported = up_lat_long.to_csv('dataset/up_lat_long.csv')"
   ]
  },
  {
   "cell_type": "code",
   "execution_count": 1,
   "id": "ba06b7f1",
   "metadata": {},
   "outputs": [
    {
     "ename": "NameError",
     "evalue": "name 'up_lat_long' is not defined",
     "output_type": "error",
     "traceback": [
      "\u001b[1;31m---------------------------------------------------------------------------\u001b[0m",
      "\u001b[1;31mNameError\u001b[0m                                 Traceback (most recent call last)",
      "Cell \u001b[1;32mIn[1], line 1\u001b[0m\n\u001b[1;32m----> 1\u001b[0m \u001b[43mup_lat_long\u001b[49m\u001b[38;5;241m.\u001b[39mhead(\u001b[38;5;241m2\u001b[39m)\n",
      "\u001b[1;31mNameError\u001b[0m: name 'up_lat_long' is not defined"
     ]
    }
   ],
   "source": [
    "up_lat_long.head(2)"
   ]
  },
  {
   "cell_type": "code",
   "execution_count": null,
   "id": "1fba11dd",
   "metadata": {},
   "outputs": [],
   "source": []
  }
 ],
 "metadata": {
  "kernelspec": {
   "display_name": "Python 3",
   "language": "python",
   "name": "python3"
  },
  "language_info": {
   "codemirror_mode": {
    "name": "ipython",
    "version": 3
   },
   "file_extension": ".py",
   "mimetype": "text/x-python",
   "name": "python",
   "nbconvert_exporter": "python",
   "pygments_lexer": "ipython3",
   "version": "3.10.18"
  }
 },
 "nbformat": 4,
 "nbformat_minor": 5
}
