{
 "cells": [
  {
   "cell_type": "code",
   "execution_count": 29,
   "id": "bf312d1b",
   "metadata": {},
   "outputs": [],
   "source": [
    "import joblib\n",
    "import pandas as pd\n",
    "\n",
    "pipeline = joblib.load(\"yield_prediction_model.pkl\")\n"
   ]
  },
  {
   "cell_type": "code",
   "execution_count": 30,
   "id": "aa3eb1a2",
   "metadata": {},
   "outputs": [],
   "source": [
    "user_input = {\n",
    "    \"Dist Name\": [\"agra\"],           \n",
    "    \"Crop\": ['WHEAT'],              \n",
    "    \"Year\": [2023],                  \n",
    "    \"Area (1000 ha)\": [7],          \n",
    "    \"Production (1000 tons)\": [50],  \n",
    "    \"temp_avg\": [28],             \n",
    "    \"temp_max\": [31],    \n",
    "    'temp_min': [25],            \n",
    "    \"humidity\": [60],               \n",
    "    \"rainfall\": [97]              \n",
    "}\n",
    "\n",
    "input_df = pd.DataFrame(user_input)\n"
   ]
  },
  {
   "cell_type": "code",
   "execution_count": 31,
   "id": "0bcf12e7",
   "metadata": {},
   "outputs": [
    {
     "name": "stdout",
     "output_type": "stream",
     "text": [
      "Predicted Yield (Kg per ha): 4066.17\n"
     ]
    }
   ],
   "source": [
    "predicted_yield = pipeline.predict(input_df)\n",
    "print(f\"Predicted Yield (Kg per ha): {predicted_yield[0]:.2f}\")\n"
   ]
  },
  {
   "cell_type": "code",
   "execution_count": null,
   "id": "be1493c9",
   "metadata": {},
   "outputs": [],
   "source": []
  }
 ],
 "metadata": {
  "kernelspec": {
   "display_name": "Python 3",
   "language": "python",
   "name": "python3"
  },
  "language_info": {
   "codemirror_mode": {
    "name": "ipython",
    "version": 3
   },
   "file_extension": ".py",
   "mimetype": "text/x-python",
   "name": "python",
   "nbconvert_exporter": "python",
   "pygments_lexer": "ipython3",
   "version": "3.10.18"
  }
 },
 "nbformat": 4,
 "nbformat_minor": 5
}
