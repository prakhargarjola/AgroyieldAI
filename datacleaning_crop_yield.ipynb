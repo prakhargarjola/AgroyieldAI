{
 "cells": [
  {
   "cell_type": "code",
   "execution_count": 1,
   "id": "4c0c5bc5",
   "metadata": {},
   "outputs": [],
   "source": [
    "import pandas as pd\n",
    "import numpy as np"
   ]
  },
  {
   "cell_type": "code",
   "execution_count": 8,
   "id": "24984982",
   "metadata": {},
   "outputs": [
    {
     "name": "stdout",
     "output_type": "stream",
     "text": [
      "Collecting xlrd\n",
      "  Downloading xlrd-2.0.2-py2.py3-none-any.whl.metadata (3.5 kB)\n",
      "Downloading xlrd-2.0.2-py2.py3-none-any.whl (96 kB)\n",
      "Installing collected packages: xlrd\n",
      "Successfully installed xlrd-2.0.2\n"
     ]
    }
   ],
   "source": [
    "!pip install xlrd"
   ]
  },
  {
   "cell_type": "code",
   "execution_count": 9,
   "id": "30a469a6",
   "metadata": {},
   "outputs": [],
   "source": [
    "df1 = pd.read_csv('dataset/crop_yield_main.csv')\n",
    "df2 = pd.read_excel('dataset/crop_yield_2.xls')"
   ]
  },
  {
   "cell_type": "code",
   "execution_count": 6,
   "id": "ebed96d8",
   "metadata": {},
   "outputs": [
    {
     "data": {
      "text/html": [
       "<div>\n",
       "<style scoped>\n",
       "    .dataframe tbody tr th:only-of-type {\n",
       "        vertical-align: middle;\n",
       "    }\n",
       "\n",
       "    .dataframe tbody tr th {\n",
       "        vertical-align: top;\n",
       "    }\n",
       "\n",
       "    .dataframe thead th {\n",
       "        text-align: right;\n",
       "    }\n",
       "</style>\n",
       "<table border=\"1\" class=\"dataframe\">\n",
       "  <thead>\n",
       "    <tr style=\"text-align: right;\">\n",
       "      <th></th>\n",
       "      <th>Dist Code</th>\n",
       "      <th>Year</th>\n",
       "      <th>State Code</th>\n",
       "      <th>State Name</th>\n",
       "      <th>Dist Name</th>\n",
       "      <th>RICE AREA (1000 ha)</th>\n",
       "      <th>RICE PRODUCTION (1000 tons)</th>\n",
       "      <th>RICE YIELD (Kg per ha)</th>\n",
       "      <th>WHEAT AREA (1000 ha)</th>\n",
       "      <th>WHEAT PRODUCTION (1000 tons)</th>\n",
       "      <th>...</th>\n",
       "      <th>SUGARCANE YIELD (Kg per ha)</th>\n",
       "      <th>COTTON AREA (1000 ha)</th>\n",
       "      <th>COTTON PRODUCTION (1000 tons)</th>\n",
       "      <th>COTTON YIELD (Kg per ha)</th>\n",
       "      <th>FRUITS AREA (1000 ha)</th>\n",
       "      <th>VEGETABLES AREA (1000 ha)</th>\n",
       "      <th>FRUITS AND VEGETABLES AREA (1000 ha)</th>\n",
       "      <th>POTATOES AREA (1000 ha)</th>\n",
       "      <th>ONION AREA (1000 ha)</th>\n",
       "      <th>FODDER AREA (1000 ha)</th>\n",
       "    </tr>\n",
       "  </thead>\n",
       "  <tbody>\n",
       "    <tr>\n",
       "      <th>0</th>\n",
       "      <td>1</td>\n",
       "      <td>1978</td>\n",
       "      <td>14</td>\n",
       "      <td>Chhattisgarh</td>\n",
       "      <td>Durg</td>\n",
       "      <td>612.5</td>\n",
       "      <td>362.2</td>\n",
       "      <td>591.35</td>\n",
       "      <td>48.7</td>\n",
       "      <td>25.6</td>\n",
       "      <td>...</td>\n",
       "      <td>2000.0</td>\n",
       "      <td>0.0</td>\n",
       "      <td>0.0</td>\n",
       "      <td>0.0</td>\n",
       "      <td>4.75</td>\n",
       "      <td>8.67</td>\n",
       "      <td>13.41</td>\n",
       "      <td>0.04</td>\n",
       "      <td>0.43</td>\n",
       "      <td>0.34</td>\n",
       "    </tr>\n",
       "    <tr>\n",
       "      <th>1</th>\n",
       "      <td>1</td>\n",
       "      <td>1979</td>\n",
       "      <td>14</td>\n",
       "      <td>Chhattisgarh</td>\n",
       "      <td>Durg</td>\n",
       "      <td>616.8</td>\n",
       "      <td>330.6</td>\n",
       "      <td>535.99</td>\n",
       "      <td>44.6</td>\n",
       "      <td>17.8</td>\n",
       "      <td>...</td>\n",
       "      <td>1000.0</td>\n",
       "      <td>0.0</td>\n",
       "      <td>0.0</td>\n",
       "      <td>0.0</td>\n",
       "      <td>4.76</td>\n",
       "      <td>8.62</td>\n",
       "      <td>13.38</td>\n",
       "      <td>0.06</td>\n",
       "      <td>0.48</td>\n",
       "      <td>0.28</td>\n",
       "    </tr>\n",
       "  </tbody>\n",
       "</table>\n",
       "<p>2 rows × 80 columns</p>\n",
       "</div>"
      ],
      "text/plain": [
       "   Dist Code  Year  State Code    State Name Dist Name  RICE AREA (1000 ha)  \\\n",
       "0          1  1978          14  Chhattisgarh      Durg                612.5   \n",
       "1          1  1979          14  Chhattisgarh      Durg                616.8   \n",
       "\n",
       "   RICE PRODUCTION (1000 tons)  RICE YIELD (Kg per ha)  WHEAT AREA (1000 ha)  \\\n",
       "0                        362.2                  591.35                  48.7   \n",
       "1                        330.6                  535.99                  44.6   \n",
       "\n",
       "   WHEAT PRODUCTION (1000 tons)  ...  SUGARCANE YIELD (Kg per ha)  \\\n",
       "0                          25.6  ...                       2000.0   \n",
       "1                          17.8  ...                       1000.0   \n",
       "\n",
       "   COTTON AREA (1000 ha)  COTTON PRODUCTION (1000 tons)  \\\n",
       "0                    0.0                            0.0   \n",
       "1                    0.0                            0.0   \n",
       "\n",
       "   COTTON YIELD (Kg per ha)  FRUITS AREA (1000 ha)  VEGETABLES AREA (1000 ha)  \\\n",
       "0                       0.0                   4.75                       8.67   \n",
       "1                       0.0                   4.76                       8.62   \n",
       "\n",
       "   FRUITS AND VEGETABLES AREA (1000 ha)  POTATOES AREA (1000 ha)  \\\n",
       "0                                 13.41                     0.04   \n",
       "1                                 13.38                     0.06   \n",
       "\n",
       "   ONION AREA (1000 ha)  FODDER AREA (1000 ha)  \n",
       "0                  0.43                   0.34  \n",
       "1                  0.48                   0.28  \n",
       "\n",
       "[2 rows x 80 columns]"
      ]
     },
     "execution_count": 6,
     "metadata": {},
     "output_type": "execute_result"
    }
   ],
   "source": [
    "df1.head(2)"
   ]
  },
  {
   "cell_type": "code",
   "execution_count": 10,
   "id": "852a216f",
   "metadata": {},
   "outputs": [
    {
     "data": {
      "text/html": [
       "<div>\n",
       "<style scoped>\n",
       "    .dataframe tbody tr th:only-of-type {\n",
       "        vertical-align: middle;\n",
       "    }\n",
       "\n",
       "    .dataframe tbody tr th {\n",
       "        vertical-align: top;\n",
       "    }\n",
       "\n",
       "    .dataframe thead th {\n",
       "        text-align: right;\n",
       "    }\n",
       "</style>\n",
       "<table border=\"1\" class=\"dataframe\">\n",
       "  <thead>\n",
       "    <tr style=\"text-align: right;\">\n",
       "      <th></th>\n",
       "      <th>Dist Code</th>\n",
       "      <th>Year</th>\n",
       "      <th>State Code</th>\n",
       "      <th>State Name</th>\n",
       "      <th>Dist Name</th>\n",
       "      <th>RICE AREA (1000 ha)</th>\n",
       "      <th>RICE PRODUCTION (1000 tons)</th>\n",
       "      <th>RICE YIELD (Kg per ha)</th>\n",
       "      <th>PEARL MILLET AREA (1000 ha)</th>\n",
       "      <th>PEARL MILLET PRODUCTION (1000 tons)</th>\n",
       "      <th>...</th>\n",
       "      <th>JULY WINDSPEED (Meter per second)</th>\n",
       "      <th>AUG WINDSPEED (Meter per second)</th>\n",
       "      <th>SEPT WINDSPEED (Meter per second)</th>\n",
       "      <th>OCT WINDSPEED (Meter per second)</th>\n",
       "      <th>NOV WINDSPEED (Meter per second)</th>\n",
       "      <th>DEC WINDSPEED (Meter per second)</th>\n",
       "      <th>Winter JAN-FEB WINDSPEED (Meter per second)</th>\n",
       "      <th>Summer MAR-MAY WINDSPEED (Meter per second)</th>\n",
       "      <th>Rainy JUN-SEP WINDSPEED (Meter per second)</th>\n",
       "      <th>Autumn OCT-DEC WINDSPEED (Meter per second)</th>\n",
       "    </tr>\n",
       "  </thead>\n",
       "  <tbody>\n",
       "    <tr>\n",
       "      <th>0</th>\n",
       "      <td>1</td>\n",
       "      <td>1990</td>\n",
       "      <td>14</td>\n",
       "      <td>Chhattisgarh</td>\n",
       "      <td>Durg</td>\n",
       "      <td>397.899994</td>\n",
       "      <td>481.399994</td>\n",
       "      <td>1210.0</td>\n",
       "      <td>0.0</td>\n",
       "      <td>0.0</td>\n",
       "      <td>...</td>\n",
       "      <td>NaN</td>\n",
       "      <td>NaN</td>\n",
       "      <td>NaN</td>\n",
       "      <td>NaN</td>\n",
       "      <td>NaN</td>\n",
       "      <td>NaN</td>\n",
       "      <td>NaN</td>\n",
       "      <td>NaN</td>\n",
       "      <td>NaN</td>\n",
       "      <td>NaN</td>\n",
       "    </tr>\n",
       "    <tr>\n",
       "      <th>1</th>\n",
       "      <td>1</td>\n",
       "      <td>1991</td>\n",
       "      <td>14</td>\n",
       "      <td>Chhattisgarh</td>\n",
       "      <td>Durg</td>\n",
       "      <td>393.200012</td>\n",
       "      <td>508.600006</td>\n",
       "      <td>1293.0</td>\n",
       "      <td>0.0</td>\n",
       "      <td>0.0</td>\n",
       "      <td>...</td>\n",
       "      <td>NaN</td>\n",
       "      <td>NaN</td>\n",
       "      <td>NaN</td>\n",
       "      <td>NaN</td>\n",
       "      <td>NaN</td>\n",
       "      <td>NaN</td>\n",
       "      <td>NaN</td>\n",
       "      <td>NaN</td>\n",
       "      <td>NaN</td>\n",
       "      <td>NaN</td>\n",
       "    </tr>\n",
       "  </tbody>\n",
       "</table>\n",
       "<p>2 rows × 107 columns</p>\n",
       "</div>"
      ],
      "text/plain": [
       "   Dist Code  Year  State Code    State Name Dist Name  RICE AREA (1000 ha)  \\\n",
       "0          1  1990          14  Chhattisgarh      Durg           397.899994   \n",
       "1          1  1991          14  Chhattisgarh      Durg           393.200012   \n",
       "\n",
       "   RICE PRODUCTION (1000 tons)  RICE YIELD (Kg per ha)  \\\n",
       "0                   481.399994                  1210.0   \n",
       "1                   508.600006                  1293.0   \n",
       "\n",
       "   PEARL MILLET AREA (1000 ha)  PEARL MILLET PRODUCTION (1000 tons)  ...  \\\n",
       "0                          0.0                                  0.0  ...   \n",
       "1                          0.0                                  0.0  ...   \n",
       "\n",
       "   JULY WINDSPEED (Meter per second)  AUG WINDSPEED (Meter per second)  \\\n",
       "0                                NaN                               NaN   \n",
       "1                                NaN                               NaN   \n",
       "\n",
       "   SEPT WINDSPEED (Meter per second)  OCT WINDSPEED (Meter per second)  \\\n",
       "0                                NaN                               NaN   \n",
       "1                                NaN                               NaN   \n",
       "\n",
       "   NOV WINDSPEED (Meter per second)  DEC WINDSPEED (Meter per second)  \\\n",
       "0                               NaN                               NaN   \n",
       "1                               NaN                               NaN   \n",
       "\n",
       "   Winter JAN-FEB WINDSPEED (Meter per second)  \\\n",
       "0                                          NaN   \n",
       "1                                          NaN   \n",
       "\n",
       "   Summer MAR-MAY WINDSPEED (Meter per second)  \\\n",
       "0                                          NaN   \n",
       "1                                          NaN   \n",
       "\n",
       "   Rainy JUN-SEP WINDSPEED (Meter per second)  \\\n",
       "0                                         NaN   \n",
       "1                                         NaN   \n",
       "\n",
       "   Autumn OCT-DEC WINDSPEED (Meter per second)  \n",
       "0                                          NaN  \n",
       "1                                          NaN  \n",
       "\n",
       "[2 rows x 107 columns]"
      ]
     },
     "execution_count": 10,
     "metadata": {},
     "output_type": "execute_result"
    }
   ],
   "source": [
    "df2.head(2)"
   ]
  },
  {
   "cell_type": "code",
   "execution_count": 11,
   "id": "76cae667",
   "metadata": {},
   "outputs": [
    {
     "data": {
      "text/plain": [
       "Index(['Dist Code', 'Year', 'State Code', 'State Name', 'Dist Name',\n",
       "       'RICE AREA (1000 ha)', 'RICE PRODUCTION (1000 tons)',\n",
       "       'RICE YIELD (Kg per ha)', 'WHEAT AREA (1000 ha)',\n",
       "       'WHEAT PRODUCTION (1000 tons)', 'WHEAT YIELD (Kg per ha)',\n",
       "       'KHARIF SORGHUM AREA (1000 ha)',\n",
       "       'KHARIF SORGHUM PRODUCTION (1000 tons)',\n",
       "       'KHARIF SORGHUM YIELD (Kg per ha)', 'RABI SORGHUM AREA (1000 ha)',\n",
       "       'RABI SORGHUM PRODUCTION (1000 tons)', 'RABI SORGHUM YIELD (Kg per ha)',\n",
       "       'SORGHUM AREA (1000 ha)', 'SORGHUM PRODUCTION (1000 tons)',\n",
       "       'SORGHUM YIELD (Kg per ha)', 'PEARL MILLET AREA (1000 ha)',\n",
       "       'PEARL MILLET PRODUCTION (1000 tons)', 'PEARL MILLET YIELD (Kg per ha)',\n",
       "       'MAIZE AREA (1000 ha)', 'MAIZE PRODUCTION (1000 tons)',\n",
       "       'MAIZE YIELD (Kg per ha)', 'FINGER MILLET AREA (1000 ha)',\n",
       "       'FINGER MILLET PRODUCTION (1000 tons)',\n",
       "       'FINGER MILLET YIELD (Kg per ha)', 'BARLEY AREA (1000 ha)',\n",
       "       'BARLEY PRODUCTION (1000 tons)', 'BARLEY YIELD (Kg per ha)',\n",
       "       'CHICKPEA AREA (1000 ha)', 'CHICKPEA PRODUCTION (1000 tons)',\n",
       "       'CHICKPEA YIELD (Kg per ha)', 'PIGEONPEA AREA (1000 ha)',\n",
       "       'PIGEONPEA PRODUCTION (1000 tons)', 'PIGEONPEA YIELD (Kg per ha)',\n",
       "       'MINOR PULSES AREA (1000 ha)', 'MINOR PULSES PRODUCTION (1000 tons)',\n",
       "       'MINOR PULSES YIELD (Kg per ha)', 'GROUNDNUT AREA (1000 ha)',\n",
       "       'GROUNDNUT PRODUCTION (1000 tons)', 'GROUNDNUT YIELD (Kg per ha)',\n",
       "       'SESAMUM AREA (1000 ha)', 'SESAMUM PRODUCTION (1000 tons)',\n",
       "       'SESAMUM YIELD (Kg per ha)', 'RAPESEED AND MUSTARD AREA (1000 ha)',\n",
       "       'RAPESEED AND MUSTARD PRODUCTION (1000 tons)',\n",
       "       'RAPESEED AND MUSTARD YIELD (Kg per ha)', 'SAFFLOWER AREA (1000 ha)',\n",
       "       'SAFFLOWER PRODUCTION (1000 tons)', 'SAFFLOWER YIELD (Kg per ha)',\n",
       "       'CASTOR AREA (1000 ha)', 'CASTOR PRODUCTION (1000 tons)',\n",
       "       'CASTOR YIELD (Kg per ha)', 'LINSEED AREA (1000 ha)',\n",
       "       'LINSEED PRODUCTION (1000 tons)', 'LINSEED YIELD (Kg per ha)',\n",
       "       'SUNFLOWER AREA (1000 ha)', 'SUNFLOWER PRODUCTION (1000 tons)',\n",
       "       'SUNFLOWER YIELD (Kg per ha)', 'SOYABEAN AREA (1000 ha)',\n",
       "       'SOYABEAN PRODUCTION (1000 tons)', 'SOYABEAN YIELD (Kg per ha)',\n",
       "       'OILSEEDS AREA (1000 ha)', 'OILSEEDS PRODUCTION (1000 tons)',\n",
       "       'OILSEEDS YIELD (Kg per ha)', 'SUGARCANE AREA (1000 ha)',\n",
       "       'SUGARCANE PRODUCTION (1000 tons)', 'SUGARCANE YIELD (Kg per ha)',\n",
       "       'COTTON AREA (1000 ha)', 'COTTON PRODUCTION (1000 tons)',\n",
       "       'COTTON YIELD (Kg per ha)', 'FRUITS AREA (1000 ha)',\n",
       "       'VEGETABLES AREA (1000 ha)', 'FRUITS AND VEGETABLES AREA (1000 ha)',\n",
       "       'POTATOES AREA (1000 ha)', 'ONION AREA (1000 ha)',\n",
       "       'FODDER AREA (1000 ha)'],\n",
       "      dtype='object')"
      ]
     },
     "execution_count": 11,
     "metadata": {},
     "output_type": "execute_result"
    }
   ],
   "source": [
    "df1.columns"
   ]
  },
  {
   "cell_type": "code",
   "execution_count": 15,
   "id": "c2ff3163",
   "metadata": {},
   "outputs": [
    {
     "data": {
      "text/plain": [
       "array(['Chhattisgarh', 'Madhya Pradesh', 'Andhra Pradesh', 'Telangana',\n",
       "       'Karnataka', 'Tamil Nadu', 'Maharashtra', 'Gujarat', 'Rajasthan',\n",
       "       'Punjab', 'Haryana', 'Uttar Pradesh', 'Uttarakhand', 'Assam',\n",
       "       'Himachal Pradesh', 'Kerala', 'Orissa', 'West Bengal', 'Bihar',\n",
       "       'Jharkhand'], dtype=object)"
      ]
     },
     "execution_count": 15,
     "metadata": {},
     "output_type": "execute_result"
    }
   ],
   "source": [
    "df1['State Name'].unique()"
   ]
  },
  {
   "cell_type": "code",
   "execution_count": 16,
   "id": "f5b32577",
   "metadata": {},
   "outputs": [],
   "source": [
    "df = df1[df1['State Name'] == 'Uttar Pradesh']"
   ]
  },
  {
   "cell_type": "code",
   "execution_count": 19,
   "id": "e27bae1c",
   "metadata": {},
   "outputs": [
    {
     "data": {
      "text/plain": [
       "array(['Saharanpur', 'Muzaffarnagar', 'Meerut', 'Buland Shahar',\n",
       "       'Aligarh', 'Mathura', 'Agra', 'Mainpuri', 'Etah', 'Bareilly',\n",
       "       'Budaun', 'Moradabad', 'Shahjahanpur', 'Pilibhit', 'Rampur',\n",
       "       'Bijnor', 'Farrukhabad', 'Etawah', 'Kanpur', 'Fatehpur',\n",
       "       'Allahabad', 'Jhansi', 'Jalaun', 'Hamirpur', 'Banda', 'Varanasi',\n",
       "       'Mirzpur', 'Jaunpur', 'Ghazipur', 'Ballia', 'Gorakhpur', 'Deoria',\n",
       "       'Basti', 'Azamgarh', 'Lucknow', 'Unnao', 'Rae-Bareily', 'Sitapur',\n",
       "       'Hardoi', 'Kheri', 'Faizabad', 'Gonda', 'Bahraich', 'Sultanpur',\n",
       "       'Pratapgarh', 'Barabanki'], dtype=object)"
      ]
     },
     "execution_count": 19,
     "metadata": {},
     "output_type": "execute_result"
    }
   ],
   "source": [
    "df['Dist Name'].unique()"
   ]
  },
  {
   "cell_type": "code",
   "execution_count": 21,
   "id": "4ac8c0b5",
   "metadata": {},
   "outputs": [
    {
     "data": {
      "text/plain": [
       "Index(['Dist Code', 'Year', 'State Code', 'State Name', 'Dist Name',\n",
       "       'RICE AREA (1000 ha)', 'RICE PRODUCTION (1000 tons)',\n",
       "       'RICE YIELD (Kg per ha)', 'WHEAT AREA (1000 ha)',\n",
       "       'WHEAT PRODUCTION (1000 tons)', 'WHEAT YIELD (Kg per ha)',\n",
       "       'KHARIF SORGHUM AREA (1000 ha)',\n",
       "       'KHARIF SORGHUM PRODUCTION (1000 tons)',\n",
       "       'KHARIF SORGHUM YIELD (Kg per ha)', 'RABI SORGHUM AREA (1000 ha)',\n",
       "       'RABI SORGHUM PRODUCTION (1000 tons)', 'RABI SORGHUM YIELD (Kg per ha)',\n",
       "       'SORGHUM AREA (1000 ha)', 'SORGHUM PRODUCTION (1000 tons)',\n",
       "       'SORGHUM YIELD (Kg per ha)', 'PEARL MILLET AREA (1000 ha)',\n",
       "       'PEARL MILLET PRODUCTION (1000 tons)', 'PEARL MILLET YIELD (Kg per ha)',\n",
       "       'MAIZE AREA (1000 ha)', 'MAIZE PRODUCTION (1000 tons)',\n",
       "       'MAIZE YIELD (Kg per ha)', 'FINGER MILLET AREA (1000 ha)',\n",
       "       'FINGER MILLET PRODUCTION (1000 tons)',\n",
       "       'FINGER MILLET YIELD (Kg per ha)', 'BARLEY AREA (1000 ha)',\n",
       "       'BARLEY PRODUCTION (1000 tons)', 'BARLEY YIELD (Kg per ha)',\n",
       "       'CHICKPEA AREA (1000 ha)', 'CHICKPEA PRODUCTION (1000 tons)',\n",
       "       'CHICKPEA YIELD (Kg per ha)', 'PIGEONPEA AREA (1000 ha)',\n",
       "       'PIGEONPEA PRODUCTION (1000 tons)', 'PIGEONPEA YIELD (Kg per ha)',\n",
       "       'MINOR PULSES AREA (1000 ha)', 'MINOR PULSES PRODUCTION (1000 tons)',\n",
       "       'MINOR PULSES YIELD (Kg per ha)', 'GROUNDNUT AREA (1000 ha)',\n",
       "       'GROUNDNUT PRODUCTION (1000 tons)', 'GROUNDNUT YIELD (Kg per ha)',\n",
       "       'SESAMUM AREA (1000 ha)', 'SESAMUM PRODUCTION (1000 tons)',\n",
       "       'SESAMUM YIELD (Kg per ha)', 'RAPESEED AND MUSTARD AREA (1000 ha)',\n",
       "       'RAPESEED AND MUSTARD PRODUCTION (1000 tons)',\n",
       "       'RAPESEED AND MUSTARD YIELD (Kg per ha)', 'SAFFLOWER AREA (1000 ha)',\n",
       "       'SAFFLOWER PRODUCTION (1000 tons)', 'SAFFLOWER YIELD (Kg per ha)',\n",
       "       'CASTOR AREA (1000 ha)', 'CASTOR PRODUCTION (1000 tons)',\n",
       "       'CASTOR YIELD (Kg per ha)', 'LINSEED AREA (1000 ha)',\n",
       "       'LINSEED PRODUCTION (1000 tons)', 'LINSEED YIELD (Kg per ha)',\n",
       "       'SUNFLOWER AREA (1000 ha)', 'SUNFLOWER PRODUCTION (1000 tons)',\n",
       "       'SUNFLOWER YIELD (Kg per ha)', 'SOYABEAN AREA (1000 ha)',\n",
       "       'SOYABEAN PRODUCTION (1000 tons)', 'SOYABEAN YIELD (Kg per ha)',\n",
       "       'OILSEEDS AREA (1000 ha)', 'OILSEEDS PRODUCTION (1000 tons)',\n",
       "       'OILSEEDS YIELD (Kg per ha)', 'SUGARCANE AREA (1000 ha)',\n",
       "       'SUGARCANE PRODUCTION (1000 tons)', 'SUGARCANE YIELD (Kg per ha)',\n",
       "       'COTTON AREA (1000 ha)', 'COTTON PRODUCTION (1000 tons)',\n",
       "       'COTTON YIELD (Kg per ha)', 'FRUITS AREA (1000 ha)',\n",
       "       'VEGETABLES AREA (1000 ha)', 'FRUITS AND VEGETABLES AREA (1000 ha)',\n",
       "       'POTATOES AREA (1000 ha)', 'ONION AREA (1000 ha)',\n",
       "       'FODDER AREA (1000 ha)'],\n",
       "      dtype='object')"
      ]
     },
     "execution_count": 21,
     "metadata": {},
     "output_type": "execute_result"
    }
   ],
   "source": [
    "df.columns"
   ]
  },
  {
   "cell_type": "code",
   "execution_count": 22,
   "id": "9ea794d0",
   "metadata": {},
   "outputs": [],
   "source": [
    "base_cols = [\"Year\", \"Dist Name\", \"State Name\", \"Dist Code\", \"State Code\"]\n"
   ]
  },
  {
   "cell_type": "code",
   "execution_count": 23,
   "id": "78ea6ae0",
   "metadata": {},
   "outputs": [],
   "source": [
    "import re"
   ]
  },
  {
   "cell_type": "code",
   "execution_count": 24,
   "id": "3eeedc5e",
   "metadata": {},
   "outputs": [],
   "source": [
    "crop_cols = [col for col in df.columns if any(x in col for x in [\"AREA\", \"PRODUCTION\", \"YIELD\"])]\n",
    "crops = set([re.sub(r\" (AREA|PRODUCTION|YIELD).*\", \"\", col).strip() for col in crop_cols])"
   ]
  },
  {
   "cell_type": "code",
   "execution_count": 25,
   "id": "d7311923",
   "metadata": {},
   "outputs": [],
   "source": [
    "long_df = pd.DataFrame()\n"
   ]
  },
  {
   "cell_type": "code",
   "execution_count": 26,
   "id": "a6197b39",
   "metadata": {},
   "outputs": [
    {
     "name": "stderr",
     "output_type": "stream",
     "text": [
      "C:\\Users\\PRAKHAR GARJOLA\\AppData\\Local\\Temp\\ipykernel_21940\\1096144870.py:13: FutureWarning: The behavior of DataFrame concatenation with empty or all-NA entries is deprecated. In a future version, this will no longer exclude empty or all-NA columns when determining the result dtypes. To retain the old behavior, exclude the relevant entries before the concat operation.\n",
      "  long_df = pd.concat([long_df, temp], ignore_index=True)\n",
      "C:\\Users\\PRAKHAR GARJOLA\\AppData\\Local\\Temp\\ipykernel_21940\\1096144870.py:13: FutureWarning: The behavior of DataFrame concatenation with empty or all-NA entries is deprecated. In a future version, this will no longer exclude empty or all-NA columns when determining the result dtypes. To retain the old behavior, exclude the relevant entries before the concat operation.\n",
      "  long_df = pd.concat([long_df, temp], ignore_index=True)\n",
      "C:\\Users\\PRAKHAR GARJOLA\\AppData\\Local\\Temp\\ipykernel_21940\\1096144870.py:13: FutureWarning: The behavior of DataFrame concatenation with empty or all-NA entries is deprecated. In a future version, this will no longer exclude empty or all-NA columns when determining the result dtypes. To retain the old behavior, exclude the relevant entries before the concat operation.\n",
      "  long_df = pd.concat([long_df, temp], ignore_index=True)\n",
      "C:\\Users\\PRAKHAR GARJOLA\\AppData\\Local\\Temp\\ipykernel_21940\\1096144870.py:13: FutureWarning: The behavior of DataFrame concatenation with empty or all-NA entries is deprecated. In a future version, this will no longer exclude empty or all-NA columns when determining the result dtypes. To retain the old behavior, exclude the relevant entries before the concat operation.\n",
      "  long_df = pd.concat([long_df, temp], ignore_index=True)\n",
      "C:\\Users\\PRAKHAR GARJOLA\\AppData\\Local\\Temp\\ipykernel_21940\\1096144870.py:13: FutureWarning: The behavior of DataFrame concatenation with empty or all-NA entries is deprecated. In a future version, this will no longer exclude empty or all-NA columns when determining the result dtypes. To retain the old behavior, exclude the relevant entries before the concat operation.\n",
      "  long_df = pd.concat([long_df, temp], ignore_index=True)\n",
      "C:\\Users\\PRAKHAR GARJOLA\\AppData\\Local\\Temp\\ipykernel_21940\\1096144870.py:13: FutureWarning: The behavior of DataFrame concatenation with empty or all-NA entries is deprecated. In a future version, this will no longer exclude empty or all-NA columns when determining the result dtypes. To retain the old behavior, exclude the relevant entries before the concat operation.\n",
      "  long_df = pd.concat([long_df, temp], ignore_index=True)\n"
     ]
    }
   ],
   "source": [
    "for crop in crops:\n",
    "    temp = df[base_cols].copy()\n",
    "    temp[\"Crop\"] = crop\n",
    "    \n",
    "    area_col = f\"{crop} AREA (1000 ha)\"\n",
    "    prod_col = f\"{crop} PRODUCTION (1000 tons)\"\n",
    "    yield_col = f\"{crop} YIELD (Kg per ha)\"\n",
    "    \n",
    "    temp[\"Area (1000 ha)\"] = df[area_col] if area_col in df.columns else None\n",
    "    temp[\"Production (1000 tons)\"] = df[prod_col] if prod_col in df.columns else None\n",
    "    temp[\"Yield (Kg per ha)\"] = df[yield_col] if yield_col in df.columns else None\n",
    "    \n",
    "    long_df = pd.concat([long_df, temp], ignore_index=True)"
   ]
  },
  {
   "cell_type": "code",
   "execution_count": 29,
   "id": "d78a5174",
   "metadata": {},
   "outputs": [],
   "source": [
    "export = long_df.to_csv('dataset/cleaned_yield_dataset.csv')"
   ]
  },
  {
   "cell_type": "code",
   "execution_count": null,
   "id": "c169a817",
   "metadata": {},
   "outputs": [],
   "source": []
  }
 ],
 "metadata": {
  "kernelspec": {
   "display_name": "Python 3",
   "language": "python",
   "name": "python3"
  },
  "language_info": {
   "codemirror_mode": {
    "name": "ipython",
    "version": 3
   },
   "file_extension": ".py",
   "mimetype": "text/x-python",
   "name": "python",
   "nbconvert_exporter": "python",
   "pygments_lexer": "ipython3",
   "version": "3.10.18"
  }
 },
 "nbformat": 4,
 "nbformat_minor": 5
}
