{
 "cells": [
  {
   "cell_type": "code",
   "execution_count": 1,
   "id": "f77926cc",
   "metadata": {},
   "outputs": [],
   "source": [
    "import pandas as pd"
   ]
  },
  {
   "cell_type": "code",
   "execution_count": 2,
   "id": "c41b6983",
   "metadata": {},
   "outputs": [],
   "source": [
    "df_yield = pd.read_csv('dataset/cleaned_yield_dataset.csv')"
   ]
  },
  {
   "cell_type": "code",
   "execution_count": 3,
   "id": "95930223",
   "metadata": {},
   "outputs": [],
   "source": [
    "df_weather = pd.read_csv('dataset/up_weather_data.csv')"
   ]
  },
  {
   "cell_type": "code",
   "execution_count": 4,
   "id": "f3780dee",
   "metadata": {},
   "outputs": [],
   "source": [
    "df_yield[\"Dist Name\"] = df_yield[\"Dist Name\"].str.strip().str.lower()\n",
    "df_weather[\"district\"] = df_weather[\"district\"].str.strip().str.lower()"
   ]
  },
  {
   "cell_type": "code",
   "execution_count": 5,
   "id": "78943e36",
   "metadata": {},
   "outputs": [
    {
     "data": {
      "text/html": [
       "<div>\n",
       "<style scoped>\n",
       "    .dataframe tbody tr th:only-of-type {\n",
       "        vertical-align: middle;\n",
       "    }\n",
       "\n",
       "    .dataframe tbody tr th {\n",
       "        vertical-align: top;\n",
       "    }\n",
       "\n",
       "    .dataframe thead th {\n",
       "        text-align: right;\n",
       "    }\n",
       "</style>\n",
       "<table border=\"1\" class=\"dataframe\">\n",
       "  <thead>\n",
       "    <tr style=\"text-align: right;\">\n",
       "      <th></th>\n",
       "      <th>Unnamed: 0</th>\n",
       "      <th>Year</th>\n",
       "      <th>Dist Name</th>\n",
       "      <th>State Name</th>\n",
       "      <th>Dist Code</th>\n",
       "      <th>State Code</th>\n",
       "      <th>Crop</th>\n",
       "      <th>Area (1000 ha)</th>\n",
       "      <th>Production (1000 tons)</th>\n",
       "      <th>Yield (Kg per ha)</th>\n",
       "    </tr>\n",
       "  </thead>\n",
       "  <tbody>\n",
       "    <tr>\n",
       "      <th>0</th>\n",
       "      <td>0</td>\n",
       "      <td>1978</td>\n",
       "      <td>saharanpur</td>\n",
       "      <td>Uttar Pradesh</td>\n",
       "      <td>189</td>\n",
       "      <td>12</td>\n",
       "      <td>RICE</td>\n",
       "      <td>97.4</td>\n",
       "      <td>158.0</td>\n",
       "      <td>1622.18</td>\n",
       "    </tr>\n",
       "    <tr>\n",
       "      <th>1</th>\n",
       "      <td>1</td>\n",
       "      <td>1979</td>\n",
       "      <td>saharanpur</td>\n",
       "      <td>Uttar Pradesh</td>\n",
       "      <td>189</td>\n",
       "      <td>12</td>\n",
       "      <td>RICE</td>\n",
       "      <td>110.7</td>\n",
       "      <td>122.1</td>\n",
       "      <td>1102.98</td>\n",
       "    </tr>\n",
       "  </tbody>\n",
       "</table>\n",
       "</div>"
      ],
      "text/plain": [
       "   Unnamed: 0  Year   Dist Name     State Name  Dist Code  State Code  Crop  \\\n",
       "0           0  1978  saharanpur  Uttar Pradesh        189          12  RICE   \n",
       "1           1  1979  saharanpur  Uttar Pradesh        189          12  RICE   \n",
       "\n",
       "   Area (1000 ha)  Production (1000 tons)  Yield (Kg per ha)  \n",
       "0            97.4                   158.0            1622.18  \n",
       "1           110.7                   122.1            1102.98  "
      ]
     },
     "execution_count": 5,
     "metadata": {},
     "output_type": "execute_result"
    }
   ],
   "source": [
    "df_yield.head(2)"
   ]
  },
  {
   "cell_type": "code",
   "execution_count": 6,
   "id": "700f4bd3",
   "metadata": {},
   "outputs": [
    {
     "data": {
      "text/html": [
       "<div>\n",
       "<style scoped>\n",
       "    .dataframe tbody tr th:only-of-type {\n",
       "        vertical-align: middle;\n",
       "    }\n",
       "\n",
       "    .dataframe tbody tr th {\n",
       "        vertical-align: top;\n",
       "    }\n",
       "\n",
       "    .dataframe thead th {\n",
       "        text-align: right;\n",
       "    }\n",
       "</style>\n",
       "<table border=\"1\" class=\"dataframe\">\n",
       "  <thead>\n",
       "    <tr style=\"text-align: right;\">\n",
       "      <th></th>\n",
       "      <th>Unnamed: 0</th>\n",
       "      <th>date</th>\n",
       "      <th>district</th>\n",
       "      <th>lat</th>\n",
       "      <th>lon</th>\n",
       "      <th>temp_avg</th>\n",
       "      <th>temp_max</th>\n",
       "      <th>temp_min</th>\n",
       "      <th>humidity</th>\n",
       "      <th>rainfall</th>\n",
       "    </tr>\n",
       "  </thead>\n",
       "  <tbody>\n",
       "    <tr>\n",
       "      <th>0</th>\n",
       "      <td>0</td>\n",
       "      <td>2000</td>\n",
       "      <td>agra</td>\n",
       "      <td>26.99513</td>\n",
       "      <td>78.052783</td>\n",
       "      <td>15.66</td>\n",
       "      <td>25.64</td>\n",
       "      <td>7.66</td>\n",
       "      <td>25.21</td>\n",
       "      <td>0.0</td>\n",
       "    </tr>\n",
       "    <tr>\n",
       "      <th>1</th>\n",
       "      <td>1</td>\n",
       "      <td>2000</td>\n",
       "      <td>agra</td>\n",
       "      <td>26.99513</td>\n",
       "      <td>78.052783</td>\n",
       "      <td>16.51</td>\n",
       "      <td>25.41</td>\n",
       "      <td>8.98</td>\n",
       "      <td>21.16</td>\n",
       "      <td>0.0</td>\n",
       "    </tr>\n",
       "  </tbody>\n",
       "</table>\n",
       "</div>"
      ],
      "text/plain": [
       "   Unnamed: 0  date district       lat        lon  temp_avg  temp_max  \\\n",
       "0           0  2000     agra  26.99513  78.052783     15.66     25.64   \n",
       "1           1  2000     agra  26.99513  78.052783     16.51     25.41   \n",
       "\n",
       "   temp_min  humidity  rainfall  \n",
       "0      7.66     25.21       0.0  \n",
       "1      8.98     21.16       0.0  "
      ]
     },
     "execution_count": 6,
     "metadata": {},
     "output_type": "execute_result"
    }
   ],
   "source": [
    "df_weather.head(2)"
   ]
  },
  {
   "cell_type": "code",
   "execution_count": 7,
   "id": "cf5b6220",
   "metadata": {},
   "outputs": [],
   "source": [
    "df_final = pd.merge(\n",
    "    df_yield,\n",
    "    df_weather,\n",
    "    left_on=[\"Dist Name\", \"Year\"],\n",
    "    right_on=[\"district\", \"date\"],\n",
    "    how=\"inner\"  \n",
    ")"
   ]
  },
  {
   "cell_type": "code",
   "execution_count": 8,
   "id": "9620ec74",
   "metadata": {},
   "outputs": [
    {
     "data": {
      "text/html": [
       "<div>\n",
       "<style scoped>\n",
       "    .dataframe tbody tr th:only-of-type {\n",
       "        vertical-align: middle;\n",
       "    }\n",
       "\n",
       "    .dataframe tbody tr th {\n",
       "        vertical-align: top;\n",
       "    }\n",
       "\n",
       "    .dataframe thead th {\n",
       "        text-align: right;\n",
       "    }\n",
       "</style>\n",
       "<table border=\"1\" class=\"dataframe\">\n",
       "  <thead>\n",
       "    <tr style=\"text-align: right;\">\n",
       "      <th></th>\n",
       "      <th>Unnamed: 0_x</th>\n",
       "      <th>Year</th>\n",
       "      <th>Dist Name</th>\n",
       "      <th>State Name</th>\n",
       "      <th>Dist Code</th>\n",
       "      <th>State Code</th>\n",
       "      <th>Crop</th>\n",
       "      <th>Area (1000 ha)</th>\n",
       "      <th>Production (1000 tons)</th>\n",
       "      <th>Yield (Kg per ha)</th>\n",
       "      <th>Unnamed: 0_y</th>\n",
       "      <th>date</th>\n",
       "      <th>district</th>\n",
       "      <th>lat</th>\n",
       "      <th>lon</th>\n",
       "      <th>temp_avg</th>\n",
       "      <th>temp_max</th>\n",
       "      <th>temp_min</th>\n",
       "      <th>humidity</th>\n",
       "      <th>rainfall</th>\n",
       "    </tr>\n",
       "  </thead>\n",
       "  <tbody>\n",
       "    <tr>\n",
       "      <th>0</th>\n",
       "      <td>22</td>\n",
       "      <td>2000</td>\n",
       "      <td>saharanpur</td>\n",
       "      <td>Uttar Pradesh</td>\n",
       "      <td>189</td>\n",
       "      <td>12</td>\n",
       "      <td>RICE</td>\n",
       "      <td>94.79</td>\n",
       "      <td>219.24</td>\n",
       "      <td>2312.9</td>\n",
       "      <td>452589</td>\n",
       "      <td>2000</td>\n",
       "      <td>saharanpur</td>\n",
       "      <td>30.033812</td>\n",
       "      <td>77.599051</td>\n",
       "      <td>15.04</td>\n",
       "      <td>24.36</td>\n",
       "      <td>8.48</td>\n",
       "      <td>21.06</td>\n",
       "      <td>0.0</td>\n",
       "    </tr>\n",
       "    <tr>\n",
       "      <th>1</th>\n",
       "      <td>22</td>\n",
       "      <td>2000</td>\n",
       "      <td>saharanpur</td>\n",
       "      <td>Uttar Pradesh</td>\n",
       "      <td>189</td>\n",
       "      <td>12</td>\n",
       "      <td>RICE</td>\n",
       "      <td>94.79</td>\n",
       "      <td>219.24</td>\n",
       "      <td>2312.9</td>\n",
       "      <td>452590</td>\n",
       "      <td>2000</td>\n",
       "      <td>saharanpur</td>\n",
       "      <td>30.033812</td>\n",
       "      <td>77.599051</td>\n",
       "      <td>14.88</td>\n",
       "      <td>23.67</td>\n",
       "      <td>8.27</td>\n",
       "      <td>21.15</td>\n",
       "      <td>0.0</td>\n",
       "    </tr>\n",
       "  </tbody>\n",
       "</table>\n",
       "</div>"
      ],
      "text/plain": [
       "   Unnamed: 0_x  Year   Dist Name     State Name  Dist Code  State Code  Crop  \\\n",
       "0            22  2000  saharanpur  Uttar Pradesh        189          12  RICE   \n",
       "1            22  2000  saharanpur  Uttar Pradesh        189          12  RICE   \n",
       "\n",
       "   Area (1000 ha)  Production (1000 tons)  Yield (Kg per ha)  Unnamed: 0_y  \\\n",
       "0           94.79                  219.24             2312.9        452589   \n",
       "1           94.79                  219.24             2312.9        452590   \n",
       "\n",
       "   date    district        lat        lon  temp_avg  temp_max  temp_min  \\\n",
       "0  2000  saharanpur  30.033812  77.599051     15.04     24.36      8.48   \n",
       "1  2000  saharanpur  30.033812  77.599051     14.88     23.67      8.27   \n",
       "\n",
       "   humidity  rainfall  \n",
       "0     21.06       0.0  \n",
       "1     21.15       0.0  "
      ]
     },
     "execution_count": 8,
     "metadata": {},
     "output_type": "execute_result"
    }
   ],
   "source": [
    "df_final.head(2)"
   ]
  },
  {
   "cell_type": "code",
   "execution_count": 9,
   "id": "dc10b3aa",
   "metadata": {},
   "outputs": [
    {
     "data": {
      "text/plain": [
       "Index(['Year', 'Dist Name', 'Crop', 'Area (1000 ha)', 'Production (1000 tons)',\n",
       "       'Yield (Kg per ha)', 'lat', 'lon', 'temp_avg', 'temp_max', 'temp_min',\n",
       "       'humidity', 'rainfall'],\n",
       "      dtype='object')"
      ]
     },
     "execution_count": 9,
     "metadata": {},
     "output_type": "execute_result"
    }
   ],
   "source": [
    "df_final.drop(columns=['Unnamed: 0_x', 'Unnamed: 0_y', 'date', 'district', 'State Name', 'Dist Code', 'State Code'], inplace=True)\n",
    "df_final.columns"
   ]
  },
  {
   "cell_type": "code",
   "execution_count": 10,
   "id": "985b1348",
   "metadata": {},
   "outputs": [
    {
     "data": {
      "text/plain": [
       "Index(['Year', 'Dist Name', 'Crop', 'Area (1000 ha)', 'Production (1000 tons)',\n",
       "       'Yield (Kg per ha)', 'lat', 'lon', 'temp_avg', 'temp_max', 'temp_min',\n",
       "       'humidity', 'rainfall'],\n",
       "      dtype='object')"
      ]
     },
     "execution_count": 10,
     "metadata": {},
     "output_type": "execute_result"
    }
   ],
   "source": [
    "df_final.columns"
   ]
  },
  {
   "cell_type": "code",
   "execution_count": 22,
   "id": "99297521",
   "metadata": {},
   "outputs": [
    {
     "data": {
      "text/plain": [
       "array([2000, 2001, 2002, 2003, 2004, 2005, 2006, 2007, 2008, 2009, 2010,\n",
       "       2011, 2012, 2013, 2014, 2015, 2016, 2017])"
      ]
     },
     "execution_count": 22,
     "metadata": {},
     "output_type": "execute_result"
    }
   ],
   "source": [
    "df_final['Year'].unique()"
   ]
  },
  {
   "cell_type": "code",
   "execution_count": 15,
   "id": "623f3338",
   "metadata": {},
   "outputs": [
    {
     "name": "stdout",
     "output_type": "stream",
     "text": [
      "<class 'pandas.core.frame.DataFrame'>\n",
      "RangeIndex: 7436325 entries, 0 to 7436324\n",
      "Data columns (total 13 columns):\n",
      " #   Column                  Dtype  \n",
      "---  ------                  -----  \n",
      " 0   Year                    int64  \n",
      " 1   Dist Name               object \n",
      " 2   Crop                    object \n",
      " 3   Area (1000 ha)          float64\n",
      " 4   Production (1000 tons)  float64\n",
      " 5   Yield (Kg per ha)       float64\n",
      " 6   lat                     float64\n",
      " 7   lon                     float64\n",
      " 8   temp_avg                float64\n",
      " 9   temp_max                float64\n",
      " 10  temp_min                float64\n",
      " 11  humidity                float64\n",
      " 12  rainfall                float64\n",
      "dtypes: float64(10), int64(1), object(2)\n",
      "memory usage: 737.6+ MB\n"
     ]
    }
   ],
   "source": [
    "df_final.info()"
   ]
  },
  {
   "cell_type": "code",
   "execution_count": 23,
   "id": "3076297b",
   "metadata": {},
   "outputs": [],
   "source": [
    "df_final.drop(columns=['Production (1000 tons)', 'lat', 'lon', 'District_encoded'], inplace=True)"
   ]
  },
  {
   "cell_type": "code",
   "execution_count": 24,
   "id": "5433f5ed",
   "metadata": {},
   "outputs": [],
   "source": [
    "export = df_final.to_csv('dataset/final_df.csv')"
   ]
  },
  {
   "cell_type": "code",
   "execution_count": null,
   "id": "491efad0",
   "metadata": {},
   "outputs": [],
   "source": []
  }
 ],
 "metadata": {
  "kernelspec": {
   "display_name": "Python 3",
   "language": "python",
   "name": "python3"
  },
  "language_info": {
   "codemirror_mode": {
    "name": "ipython",
    "version": 3
   },
   "file_extension": ".py",
   "mimetype": "text/x-python",
   "name": "python",
   "nbconvert_exporter": "python",
   "pygments_lexer": "ipython3",
   "version": "3.10.18"
  }
 },
 "nbformat": 4,
 "nbformat_minor": 5
}
