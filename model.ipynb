{
 "cells": [
  {
   "cell_type": "code",
   "execution_count": 83,
   "id": "75dc2521",
   "metadata": {},
   "outputs": [],
   "source": [
    "import pandas as pd"
   ]
  },
  {
   "cell_type": "code",
   "execution_count": 84,
   "id": "ba1a946e",
   "metadata": {},
   "outputs": [],
   "source": [
    "df = pd.read_csv('dataset/final_df.csv')"
   ]
  },
  {
   "cell_type": "code",
   "execution_count": 85,
   "id": "d17485a2",
   "metadata": {},
   "outputs": [],
   "source": [
    "df.drop(columns=['Unnamed: 0'], inplace=True)"
   ]
  },
  {
   "cell_type": "code",
   "execution_count": 86,
   "id": "f6a41076",
   "metadata": {},
   "outputs": [
    {
     "data": {
      "text/plain": [
       "999804"
      ]
     },
     "execution_count": 86,
     "metadata": {},
     "output_type": "execute_result"
    }
   ],
   "source": [
    "df.shape[0]"
   ]
  },
  {
   "cell_type": "code",
   "execution_count": 87,
   "id": "7e7aba41",
   "metadata": {},
   "outputs": [],
   "source": [
    "df.dropna(subset=['Yield (Kg per ha)'], inplace=True)\n"
   ]
  },
  {
   "cell_type": "code",
   "execution_count": 88,
   "id": "59e53794",
   "metadata": {},
   "outputs": [
    {
     "data": {
      "text/plain": [
       "(792948, 11)"
      ]
     },
     "execution_count": 88,
     "metadata": {},
     "output_type": "execute_result"
    }
   ],
   "source": [
    "df.shape"
   ]
  },
  {
   "cell_type": "code",
   "execution_count": 89,
   "id": "9eff9a09",
   "metadata": {},
   "outputs": [
    {
     "data": {
      "text/plain": [
       "Unnamed: 0.1         0\n",
       "Year                 0\n",
       "Dist Name            0\n",
       "Crop                 0\n",
       "Area (1000 ha)       0\n",
       "Yield (Kg per ha)    0\n",
       "temp_avg             0\n",
       "temp_max             0\n",
       "temp_min             0\n",
       "humidity             0\n",
       "rainfall             0\n",
       "dtype: int64"
      ]
     },
     "execution_count": 89,
     "metadata": {},
     "output_type": "execute_result"
    }
   ],
   "source": [
    "df.isnull().sum()"
   ]
  },
  {
   "cell_type": "code",
   "execution_count": 90,
   "id": "ff9a9c7b",
   "metadata": {},
   "outputs": [],
   "source": [
    "df.drop(columns=['Unnamed: 0.1'], inplace=True)"
   ]
  },
  {
   "cell_type": "code",
   "execution_count": 91,
   "id": "edc77a8f",
   "metadata": {},
   "outputs": [],
   "source": [
    "X = df.loc[:, df.columns!='Yield (Kg per ha)']\n",
    "y = df['Yield (Kg per ha)']"
   ]
  },
  {
   "cell_type": "code",
   "execution_count": 92,
   "id": "a1a0cc29",
   "metadata": {},
   "outputs": [],
   "source": [
    "from sklearn.model_selection import train_test_split\n",
    "X_train, X_test, y_train, y_test = train_test_split(X, y, test_size=0.30, random_state=42)"
   ]
  },
  {
   "cell_type": "code",
   "execution_count": 93,
   "id": "c2d66365",
   "metadata": {},
   "outputs": [],
   "source": [
    "from sklearn.compose import ColumnTransformer\n",
    "from sklearn.preprocessing import OrdinalEncoder, StandardScaler"
   ]
  },
  {
   "cell_type": "code",
   "execution_count": 94,
   "id": "7fa16907",
   "metadata": {},
   "outputs": [
    {
     "data": {
      "text/plain": [
       "['Dist Name', 'Crop']"
      ]
     },
     "execution_count": 94,
     "metadata": {},
     "output_type": "execute_result"
    }
   ],
   "source": [
    "cat_features"
   ]
  },
  {
   "cell_type": "code",
   "execution_count": 95,
   "id": "61ad360a",
   "metadata": {},
   "outputs": [],
   "source": [
    "from sklearn.ensemble import RandomForestRegressor\n",
    "from sklearn.ensemble import GradientBoostingRegressor\n",
    "from sklearn.tree import DecisionTreeRegressor\n",
    "from xgboost import XGBRegressor\n",
    "from lightgbm import LGBMRegressor\n",
    "from catboost import CatBoostRegressor\n",
    "from sklearn.metrics import mean_absolute_error, root_mean_squared_error, r2_score"
   ]
  },
  {
   "cell_type": "code",
   "execution_count": 96,
   "id": "54f9d943",
   "metadata": {},
   "outputs": [
    {
     "data": {
      "text/plain": [
       "360961    259.26\n",
       "471369      0.00\n",
       "576822    824.82\n",
       "652241      0.00\n",
       "738992      0.00\n",
       "           ...  \n",
       "362606    500.00\n",
       "469266    737.28\n",
       "131932      0.00\n",
       "843535      0.00\n",
       "121958      0.00\n",
       "Name: Yield (Kg per ha), Length: 555063, dtype: float64"
      ]
     },
     "execution_count": 96,
     "metadata": {},
     "output_type": "execute_result"
    }
   ],
   "source": [
    "y_train"
   ]
  },
  {
   "cell_type": "code",
   "execution_count": 97,
   "id": "9f37c71d",
   "metadata": {},
   "outputs": [],
   "source": [
    "cat_features = X.select_dtypes(include=\"object\").columns\n",
    "num_features = X.select_dtypes(exclude=\"object\").columns\n",
    "\n",
    "numeric_transformer = StandardScaler()\n",
    "ord_encoder = OrdinalEncoder(handle_unknown=\"use_encoded_value\", unknown_value=-1)\n",
    "\n",
    "preprocessor = ColumnTransformer(\n",
    "    [\n",
    "        (\"Ord Encoder\", ord_encoder, cat_features),\n",
    "        (\"StandardScaler\", numeric_transformer, num_features)\n",
    "    ]\n",
    ")\n"
   ]
  },
  {
   "cell_type": "code",
   "execution_count": 98,
   "id": "fb9c8082",
   "metadata": {},
   "outputs": [],
   "source": [
    "X_train_processed = preprocessor.fit_transform(X_train)\n",
    "X_test_processed = preprocessor.transform(X_test)"
   ]
  },
  {
   "cell_type": "code",
   "execution_count": 99,
   "id": "75214d66",
   "metadata": {},
   "outputs": [
    {
     "data": {
      "text/plain": [
       "array([[10.        ,  9.        , -0.62241448, ..., -1.61234903,\n",
       "        -0.50127493, -0.33152578],\n",
       "       [23.        ,  3.        , -1.38481905, ..., -0.26405021,\n",
       "        -1.38680086, -0.33152578],\n",
       "       [ 5.        , 12.        ,  1.28359695, ...,  0.93429274,\n",
       "         1.52034099,  1.56177916],\n",
       "       ...,\n",
       "       [ 9.        ,  8.        , -0.05061105, ...,  0.65394047,\n",
       "         1.67982973,  4.83668501],\n",
       "       [ 1.        ,  3.        , -0.62241448, ...,  1.01644248,\n",
       "         0.73059382, -0.18854965],\n",
       "       [15.        , 20.        , -1.00361676, ..., -1.34242848,\n",
       "         0.53775356, -0.33152578]], shape=(237885, 9))"
      ]
     },
     "execution_count": 99,
     "metadata": {},
     "output_type": "execute_result"
    }
   ],
   "source": [
    "X_test_processed"
   ]
  },
  {
   "cell_type": "code",
   "execution_count": 100,
   "id": "2a73dea6",
   "metadata": {},
   "outputs": [],
   "source": [
    "from sklearn.ensemble import RandomForestRegressor, GradientBoostingRegressor\n",
    "from xgboost import XGBRegressor\n",
    "from lightgbm import LGBMRegressor\n",
    "from catboost import CatBoostRegressor\n",
    "\n",
    "models = {\n",
    "    \"Decision Tree\": DecisionTreeRegressor(max_depth=10, random_state=42),\n",
    "    \"Random Forest\": RandomForestRegressor(n_estimators=100, max_depth=15, n_jobs=-1, random_state=42),\n",
    "    \"Gradient Boosting\": GradientBoostingRegressor(n_estimators=100, max_depth=5, random_state=42),\n",
    "    \"XGBoost\": XGBRegressor(n_estimators=200, max_depth=8, tree_method=\"hist\", n_jobs=-1, random_state=42),\n",
    "    \"LightGBM\": LGBMRegressor(n_estimators=200, max_depth=-1, n_jobs=-1, random_state=42),\n",
    "    \"CatBoost\": CatBoostRegressor(iterations=200, depth=8, learning_rate=0.1, task_type=\"CPU\", verbose=0, random_state=42)\n",
    "}\n"
   ]
  },
  {
   "cell_type": "code",
   "execution_count": 101,
   "id": "a6946628",
   "metadata": {},
   "outputs": [
    {
     "name": "stdout",
     "output_type": "stream",
     "text": [
      "\n",
      "Training Decision Tree...\n",
      "⏱ Training time: 3.07 sec\n",
      "For Train Data\n",
      "MAE: 156.51, RMSE: 268.02, R2: 0.9567\n",
      "For Test Data\n",
      "MAE: 157.03, RMSE: 268.82, R2: 0.9569\n",
      "\n",
      "Training Random Forest...\n",
      "⏱ Training time: 39.21 sec\n",
      "For Train Data\n",
      "MAE: 73.50, RMSE: 149.16, R2: 0.9866\n",
      "For Test Data\n",
      "MAE: 74.31, RMSE: 150.71, R2: 0.9865\n",
      "\n",
      "Training Gradient Boosting...\n",
      "⏱ Training time: 128.01 sec\n",
      "For Train Data\n",
      "MAE: 164.18, RMSE: 263.04, R2: 0.9583\n",
      "For Test Data\n",
      "MAE: 164.78, RMSE: 264.29, R2: 0.9584\n",
      "\n",
      "Training XGBoost...\n",
      "⏱ Training time: 1.68 sec\n",
      "For Train Data\n",
      "MAE: 28.69, RMSE: 46.13, R2: 0.9987\n",
      "For Test Data\n",
      "MAE: 29.78, RMSE: 48.09, R2: 0.9986\n",
      "\n",
      "Training LightGBM...\n",
      "[LightGBM] [Info] Auto-choosing row-wise multi-threading, the overhead of testing was 0.001844 seconds.\n",
      "You can set `force_row_wise=true` to remove the overhead.\n",
      "And if memory is not enough, you can set `force_col_wise=true`.\n",
      "[LightGBM] [Info] Total Bins 1611\n",
      "[LightGBM] [Info] Number of data points in the train set: 555063, number of used features: 9\n",
      "[LightGBM] [Info] Start training from score 1023.415587\n"
     ]
    },
    {
     "name": "stderr",
     "output_type": "stream",
     "text": [
      "d:\\ML\\venv\\lib\\site-packages\\sklearn\\utils\\validation.py:2749: UserWarning: X does not have valid feature names, but LGBMRegressor was fitted with feature names\n",
      "  warnings.warn(\n",
      "d:\\ML\\venv\\lib\\site-packages\\sklearn\\utils\\validation.py:2749: UserWarning: X does not have valid feature names, but LGBMRegressor was fitted with feature names\n",
      "  warnings.warn(\n"
     ]
    },
    {
     "name": "stdout",
     "output_type": "stream",
     "text": [
      "⏱ Training time: 1.00 sec\n",
      "For Train Data\n",
      "MAE: 125.03, RMSE: 200.26, R2: 0.9758\n",
      "For Test Data\n",
      "MAE: 125.63, RMSE: 201.62, R2: 0.9758\n",
      "\n",
      "Training CatBoost...\n",
      "⏱ Training time: 5.19 sec\n",
      "For Train Data\n",
      "MAE: 147.04, RMSE: 238.82, R2: 0.9656\n",
      "For Test Data\n",
      "MAE: 147.92, RMSE: 240.19, R2: 0.9656\n"
     ]
    }
   ],
   "source": [
    "import time\n",
    "from sklearn.metrics import mean_absolute_error, mean_squared_error, r2_score\n",
    "import numpy as np\n",
    "\n",
    "for name, model in models.items():\n",
    "    print(f\"\\nTraining {name}...\")\n",
    "    start = time.time()\n",
    "    model.fit(X_train_processed, y_train)\n",
    "    end = time.time()\n",
    "\n",
    "    y_pred_train = model.predict(X_train_processed)\n",
    "    y_pred_test = model.predict(X_test_processed)\n",
    "\n",
    "    \n",
    "    mae_train = mean_absolute_error(y_train, y_pred_train)\n",
    "    rmse_train = np.sqrt(mean_squared_error(y_train, y_pred_train))\n",
    "    r2_train = r2_score(y_train, y_pred_train)\n",
    "\n",
    "    \n",
    "    mae_test = mean_absolute_error(y_test, y_pred_test)\n",
    "    rmse_test = np.sqrt(mean_squared_error(y_test, y_pred_test))\n",
    "    r2_test = r2_score(y_test, y_pred_test)\n",
    "\n",
    "    print(f\"⏱ Training time: {end - start:.2f} sec\")\n",
    "    print('For Train Data')\n",
    "    print(f\"MAE: {mae_train:.2f}, RMSE: {rmse_train:.2f}, R2: {r2_train:.4f}\")\n",
    "    print('For Test Data')\n",
    "    print(f\"MAE: {mae_test:.2f}, RMSE: {rmse_test:.2f}, R2: {r2_test:.4f}\")\n"
   ]
  },
  {
   "cell_type": "code",
   "execution_count": 102,
   "id": "62a1f037",
   "metadata": {},
   "outputs": [
    {
     "data": {
      "text/html": [
       "<div>\n",
       "<style scoped>\n",
       "    .dataframe tbody tr th:only-of-type {\n",
       "        vertical-align: middle;\n",
       "    }\n",
       "\n",
       "    .dataframe tbody tr th {\n",
       "        vertical-align: top;\n",
       "    }\n",
       "\n",
       "    .dataframe thead th {\n",
       "        text-align: right;\n",
       "    }\n",
       "</style>\n",
       "<table border=\"1\" class=\"dataframe\">\n",
       "  <thead>\n",
       "    <tr style=\"text-align: right;\">\n",
       "      <th></th>\n",
       "      <th>Year</th>\n",
       "      <th>Dist Name</th>\n",
       "      <th>Crop</th>\n",
       "      <th>Area (1000 ha)</th>\n",
       "      <th>Yield (Kg per ha)</th>\n",
       "      <th>temp_avg</th>\n",
       "      <th>temp_max</th>\n",
       "      <th>temp_min</th>\n",
       "      <th>humidity</th>\n",
       "      <th>rainfall</th>\n",
       "    </tr>\n",
       "  </thead>\n",
       "  <tbody>\n",
       "    <tr>\n",
       "      <th>0</th>\n",
       "      <td>2001</td>\n",
       "      <td>agra</td>\n",
       "      <td>BARLEY</td>\n",
       "      <td>14.96</td>\n",
       "      <td>3042.84</td>\n",
       "      <td>31.53</td>\n",
       "      <td>36.87</td>\n",
       "      <td>26.30</td>\n",
       "      <td>61.56</td>\n",
       "      <td>10.62</td>\n",
       "    </tr>\n",
       "    <tr>\n",
       "      <th>1</th>\n",
       "      <td>2012</td>\n",
       "      <td>agra</td>\n",
       "      <td>BARLEY</td>\n",
       "      <td>8.60</td>\n",
       "      <td>3255.06</td>\n",
       "      <td>20.03</td>\n",
       "      <td>29.62</td>\n",
       "      <td>9.75</td>\n",
       "      <td>21.47</td>\n",
       "      <td>0.00</td>\n",
       "    </tr>\n",
       "    <tr>\n",
       "      <th>2</th>\n",
       "      <td>2003</td>\n",
       "      <td>agra</td>\n",
       "      <td>BARLEY</td>\n",
       "      <td>14.91</td>\n",
       "      <td>2903.17</td>\n",
       "      <td>17.95</td>\n",
       "      <td>28.42</td>\n",
       "      <td>10.82</td>\n",
       "      <td>36.26</td>\n",
       "      <td>0.00</td>\n",
       "    </tr>\n",
       "    <tr>\n",
       "      <th>3</th>\n",
       "      <td>2015</td>\n",
       "      <td>agra</td>\n",
       "      <td>BARLEY</td>\n",
       "      <td>6.76</td>\n",
       "      <td>2716.28</td>\n",
       "      <td>26.08</td>\n",
       "      <td>30.98</td>\n",
       "      <td>20.73</td>\n",
       "      <td>56.50</td>\n",
       "      <td>1.40</td>\n",
       "    </tr>\n",
       "    <tr>\n",
       "      <th>4</th>\n",
       "      <td>2008</td>\n",
       "      <td>agra</td>\n",
       "      <td>BARLEY</td>\n",
       "      <td>10.34</td>\n",
       "      <td>3052.19</td>\n",
       "      <td>31.20</td>\n",
       "      <td>35.15</td>\n",
       "      <td>27.94</td>\n",
       "      <td>66.64</td>\n",
       "      <td>5.19</td>\n",
       "    </tr>\n",
       "  </tbody>\n",
       "</table>\n",
       "</div>"
      ],
      "text/plain": [
       "   Year Dist Name    Crop  Area (1000 ha)  Yield (Kg per ha)  temp_avg  \\\n",
       "0  2001      agra  BARLEY           14.96            3042.84     31.53   \n",
       "1  2012      agra  BARLEY            8.60            3255.06     20.03   \n",
       "2  2003      agra  BARLEY           14.91            2903.17     17.95   \n",
       "3  2015      agra  BARLEY            6.76            2716.28     26.08   \n",
       "4  2008      agra  BARLEY           10.34            3052.19     31.20   \n",
       "\n",
       "   temp_max  temp_min  humidity  rainfall  \n",
       "0     36.87     26.30     61.56     10.62  \n",
       "1     29.62      9.75     21.47      0.00  \n",
       "2     28.42     10.82     36.26      0.00  \n",
       "3     30.98     20.73     56.50      1.40  \n",
       "4     35.15     27.94     66.64      5.19  "
      ]
     },
     "execution_count": 102,
     "metadata": {},
     "output_type": "execute_result"
    }
   ],
   "source": [
    "df.head()"
   ]
  },
  {
   "cell_type": "code",
   "execution_count": null,
   "id": "07e999d7",
   "metadata": {},
   "outputs": [],
   "source": []
  },
  {
   "cell_type": "code",
   "execution_count": 103,
   "id": "08679ae8",
   "metadata": {},
   "outputs": [],
   "source": [
    "import joblib\n",
    "from sklearn.pipeline import Pipeline\n",
    "from sklearn.compose import ColumnTransformer\n",
    "from sklearn.preprocessing import StandardScaler, OrdinalEncoder\n",
    "from xgboost import XGBRegressor\n",
    "\n",
    "\n",
    "cat_features = [\"Dist Name\", \"Crop\"]\n",
    "num_features = [\"Year\", \"Area (1000 ha)\",\n",
    "                \"temp_avg\", \"temp_max\", \"temp_min\", \"humidity\", \"rainfall\"]\n",
    "\n",
    "numeric_transformer = StandardScaler()\n",
    "categorical_transformer = OrdinalEncoder(handle_unknown=\"use_encoded_value\", unknown_value=-1)\n",
    "\n",
    "preprocessor = ColumnTransformer(\n",
    "    transformers=[\n",
    "        (\"num\", numeric_transformer, num_features),\n",
    "        (\"cat\", categorical_transformer, cat_features)\n",
    "    ]\n",
    ")\n",
    "\n",
    "pipeline = Pipeline(steps=[\n",
    "    (\"preprocessor\", preprocessor),\n",
    "    (\"model\", XGBRegressor(n_estimators=500, learning_rate=0.05,\n",
    "                           max_depth=6, random_state=42))\n",
    "])\n",
    "\n",
    "pipeline.fit(X_train, y_train)\n",
    "\n",
    "joblib.dump(pipeline, \"yield_prediction_model.pkl\")\n",
    "\n",
    "pipeline = joblib.load(\"yield_prediction_model.pkl\")\n",
    "y_pred = pipeline.predict(X_test)\n"
   ]
  },
  {
   "cell_type": "code",
   "execution_count": 116,
   "id": "b695b73b",
   "metadata": {},
   "outputs": [
    {
     "name": "stdout",
     "output_type": "stream",
     "text": [
      "Predicted Yield (Kg per ha): 2531.45\n"
     ]
    }
   ],
   "source": [
    "user_input = {\n",
    "    \"Dist Name\": [\"saharanpur\"],           \n",
    "    \"Crop\": [\"BARLEY\"],              \n",
    "    \"Year\": [2023],                  \n",
    "    \"Area (1000 ha)\": [14],          \n",
    "    \"Production (1000 tons)\": [5],  \n",
    "    \"temp_avg\": [28],             \n",
    "    \"temp_max\": [31],    \n",
    "    'temp_min': [25],            \n",
    "    \"humidity\": [60],               \n",
    "    \"rainfall\": [97]              \n",
    "}\n",
    "\n",
    "input_df = pd.DataFrame(user_input)\n",
    "predicted_yield = pipeline.predict(input_df)\n",
    "print(f\"Predicted Yield (Kg per ha): {predicted_yield[0]:.2f}\")\n"
   ]
  },
  {
   "cell_type": "code",
   "execution_count": null,
   "id": "9e3c3b41",
   "metadata": {},
   "outputs": [],
   "source": []
  },
  {
   "cell_type": "code",
   "execution_count": null,
   "id": "a78b4e9d",
   "metadata": {},
   "outputs": [],
   "source": []
  }
 ],
 "metadata": {
  "kernelspec": {
   "display_name": "Python 3",
   "language": "python",
   "name": "python3"
  },
  "language_info": {
   "codemirror_mode": {
    "name": "ipython",
    "version": 3
   },
   "file_extension": ".py",
   "mimetype": "text/x-python",
   "name": "python",
   "nbconvert_exporter": "python",
   "pygments_lexer": "ipython3",
   "version": "3.10.18"
  }
 },
 "nbformat": 4,
 "nbformat_minor": 5
}
